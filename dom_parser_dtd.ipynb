{
 "cells": [
  {
   "cell_type": "code",
   "execution_count": 35,
   "id": "d7954d37",
   "metadata": {},
   "outputs": [],
   "source": [
    "from lxml import etree\n",
    "parser = etree.XMLParser(dtd_validation=True)\n",
    "tree = etree.parse(r\"C:\\Users\\siddh\\OneDrive\\Documents\\xmldtd.xml\", parser)\n"
   ]
  },
  {
   "cell_type": "code",
   "execution_count": 8,
   "id": "1f92320f",
   "metadata": {},
   "outputs": [
    {
     "data": {
      "text/plain": [
       "<lxml.etree._ElementTree at 0x23f5dae8ac0>"
      ]
     },
     "execution_count": 8,
     "metadata": {},
     "output_type": "execute_result"
    }
   ],
   "source": [
    "tree"
   ]
  },
  {
   "cell_type": "code",
   "execution_count": 33,
   "id": "fb58d635",
   "metadata": {},
   "outputs": [
    {
     "data": {
      "text/plain": [
       "<lxml.etree.XMLParser at 0x23f60b9e550>"
      ]
     },
     "execution_count": 33,
     "metadata": {},
     "output_type": "execute_result"
    }
   ],
   "source": [
    "parser"
   ]
  },
  {
   "cell_type": "code",
   "execution_count": 36,
   "id": "af3b6843",
   "metadata": {},
   "outputs": [
    {
     "data": {
      "text/plain": [
       "<Element classroom at 0x23f5ec43f00>"
      ]
     },
     "execution_count": 36,
     "metadata": {},
     "output_type": "execute_result"
    }
   ],
   "source": [
    "tree.getroot()"
   ]
  },
  {
   "cell_type": "code",
   "execution_count": null,
   "id": "d47e31a7",
   "metadata": {},
   "outputs": [],
   "source": []
  },
  {
   "cell_type": "code",
   "execution_count": null,
   "id": "85b1957a",
   "metadata": {},
   "outputs": [],
   "source": []
  }
 ],
 "metadata": {
  "kernelspec": {
   "display_name": "Python 3 (ipykernel)",
   "language": "python",
   "name": "python3"
  },
  "language_info": {
   "codemirror_mode": {
    "name": "ipython",
    "version": 3
   },
   "file_extension": ".py",
   "mimetype": "text/x-python",
   "name": "python",
   "nbconvert_exporter": "python",
   "pygments_lexer": "ipython3",
   "version": "3.9.7"
  }
 },
 "nbformat": 4,
 "nbformat_minor": 5
}
